{
 "cells": [
  {
   "cell_type": "markdown",
   "metadata": {},
   "source": [
    "<h1>**Part One** - Autism Literature</h1>"
   ]
  },
  {
   "cell_type": "code",
   "execution_count": 2,
   "metadata": {},
   "outputs": [
    {
     "name": "stdout",
     "output_type": "stream",
     "text": [
      "3.7.3 (default, Mar 27 2019, 17:13:21) [MSC v.1915 64 bit (AMD64)]\n"
     ]
    }
   ],
   "source": [
    "import pandas as pd\n",
    "import numpy as np\n",
    "import matplotlib.pyplot as plt\n",
    "import sys\n",
    "print(sys.version)"
   ]
  },
  {
   "cell_type": "markdown",
   "metadata": {},
   "source": [
    "**Task 1** - Plot a bar chart of the number of genes in each SFARI gene-score category (2 marks)."
   ]
  },
  {
   "cell_type": "code",
   "execution_count": 2,
   "metadata": {},
   "outputs": [
    {
     "data": {
      "text/html": [
       "<div>\n",
       "<style scoped>\n",
       "    .dataframe tbody tr th:only-of-type {\n",
       "        vertical-align: middle;\n",
       "    }\n",
       "\n",
       "    .dataframe tbody tr th {\n",
       "        vertical-align: top;\n",
       "    }\n",
       "\n",
       "    .dataframe thead th {\n",
       "        text-align: right;\n",
       "    }\n",
       "</style>\n",
       "<table border=\"1\" class=\"dataframe\">\n",
       "  <thead>\n",
       "    <tr style=\"text-align: right;\">\n",
       "      <th></th>\n",
       "      <th>status</th>\n",
       "      <th>gene-symbol</th>\n",
       "      <th>gene-name</th>\n",
       "      <th>ensembl-id</th>\n",
       "      <th>chromosome</th>\n",
       "      <th>genetic-category</th>\n",
       "      <th>gene-score</th>\n",
       "      <th>syndromic</th>\n",
       "      <th>number-of-reports</th>\n",
       "    </tr>\n",
       "  </thead>\n",
       "  <tbody>\n",
       "    <tr>\n",
       "      <th>0</th>\n",
       "      <td>9</td>\n",
       "      <td>ABAT</td>\n",
       "      <td>4-aminobutyrate aminotransferase</td>\n",
       "      <td>ENSG00000183044</td>\n",
       "      <td>16</td>\n",
       "      <td>Rare Single Gene Mutation, Genetic Association</td>\n",
       "      <td>3.0</td>\n",
       "      <td>0</td>\n",
       "      <td>5</td>\n",
       "    </tr>\n",
       "    <tr>\n",
       "      <th>1</th>\n",
       "      <td>9</td>\n",
       "      <td>ABCA10</td>\n",
       "      <td>ATP-binding cassette, sub-family A (ABC1), mem...</td>\n",
       "      <td>ENSG00000154263</td>\n",
       "      <td>17</td>\n",
       "      <td>Rare Single Gene Mutation</td>\n",
       "      <td>3.0</td>\n",
       "      <td>0</td>\n",
       "      <td>1</td>\n",
       "    </tr>\n",
       "    <tr>\n",
       "      <th>2</th>\n",
       "      <td>9</td>\n",
       "      <td>ABCA13</td>\n",
       "      <td>ATP binding cassette subfamily A member 13</td>\n",
       "      <td>ENSG00000179869</td>\n",
       "      <td>7</td>\n",
       "      <td>Rare Single Gene Mutation, Functional</td>\n",
       "      <td>3.0</td>\n",
       "      <td>0</td>\n",
       "      <td>6</td>\n",
       "    </tr>\n",
       "    <tr>\n",
       "      <th>3</th>\n",
       "      <td>9</td>\n",
       "      <td>ABCA7</td>\n",
       "      <td>ATP-binding cassette, sub-family A (ABC1), mem...</td>\n",
       "      <td>ENSG00000064687</td>\n",
       "      <td>19</td>\n",
       "      <td>Rare Single Gene Mutation</td>\n",
       "      <td>3.0</td>\n",
       "      <td>0</td>\n",
       "      <td>4</td>\n",
       "    </tr>\n",
       "    <tr>\n",
       "      <th>4</th>\n",
       "      <td>9</td>\n",
       "      <td>ACE</td>\n",
       "      <td>angiotensin I converting enzyme</td>\n",
       "      <td>ENSG00000159640</td>\n",
       "      <td>17</td>\n",
       "      <td>Rare Single Gene Mutation, Genetic Association</td>\n",
       "      <td>3.0</td>\n",
       "      <td>0</td>\n",
       "      <td>3</td>\n",
       "    </tr>\n",
       "  </tbody>\n",
       "</table>\n",
       "</div>"
      ],
      "text/plain": [
       "   status gene-symbol                                          gene-name  \\\n",
       "0       9        ABAT                   4-aminobutyrate aminotransferase   \n",
       "1       9      ABCA10  ATP-binding cassette, sub-family A (ABC1), mem...   \n",
       "2       9      ABCA13         ATP binding cassette subfamily A member 13   \n",
       "3       9       ABCA7  ATP-binding cassette, sub-family A (ABC1), mem...   \n",
       "4       9         ACE                    angiotensin I converting enzyme   \n",
       "\n",
       "        ensembl-id chromosome                                genetic-category  \\\n",
       "0  ENSG00000183044         16  Rare Single Gene Mutation, Genetic Association   \n",
       "1  ENSG00000154263         17                       Rare Single Gene Mutation   \n",
       "2  ENSG00000179869          7           Rare Single Gene Mutation, Functional   \n",
       "3  ENSG00000064687         19                       Rare Single Gene Mutation   \n",
       "4  ENSG00000159640         17  Rare Single Gene Mutation, Genetic Association   \n",
       "\n",
       "   gene-score  syndromic  number-of-reports  \n",
       "0         3.0          0                  5  \n",
       "1         3.0          0                  1  \n",
       "2         3.0          0                  6  \n",
       "3         3.0          0                  4  \n",
       "4         3.0          0                  3  "
      ]
     },
     "execution_count": 2,
     "metadata": {},
     "output_type": "execute_result"
    }
   ],
   "source": [
    "genes_df = pd.read_csv('SFARI-Gene.csv', header=0) # reading the 10-29-2020 release SFARI genes data\n",
    "\n",
    "genes_df.head()"
   ]
  },
  {
   "cell_type": "code",
   "execution_count": 3,
   "metadata": {},
   "outputs": [
    {
     "data": {
      "text/html": [
       "<div>\n",
       "<style scoped>\n",
       "    .dataframe tbody tr th:only-of-type {\n",
       "        vertical-align: middle;\n",
       "    }\n",
       "\n",
       "    .dataframe tbody tr th {\n",
       "        vertical-align: top;\n",
       "    }\n",
       "\n",
       "    .dataframe thead th {\n",
       "        text-align: right;\n",
       "    }\n",
       "</style>\n",
       "<table border=\"1\" class=\"dataframe\">\n",
       "  <thead>\n",
       "    <tr style=\"text-align: right;\">\n",
       "      <th></th>\n",
       "      <th>gene_count</th>\n",
       "    </tr>\n",
       "  </thead>\n",
       "  <tbody>\n",
       "    <tr>\n",
       "      <th>3.0</th>\n",
       "      <td>507</td>\n",
       "    </tr>\n",
       "    <tr>\n",
       "      <th>2.0</th>\n",
       "      <td>207</td>\n",
       "    </tr>\n",
       "    <tr>\n",
       "      <th>1.0</th>\n",
       "      <td>194</td>\n",
       "    </tr>\n",
       "  </tbody>\n",
       "</table>\n",
       "</div>"
      ],
      "text/plain": [
       "     gene_count\n",
       "3.0         507\n",
       "2.0         207\n",
       "1.0         194"
      ]
     },
     "execution_count": 3,
     "metadata": {},
     "output_type": "execute_result"
    }
   ],
   "source": [
    "#counts of genes per gene-score\n",
    "genes_per_score = pd.DataFrame(genes_df.value_counts(['gene-score']), columns=['gene_count'])\n",
    "\n",
    "#this removes some unpleasent formatting for the index\n",
    "genes_per_score.index = [i[0] for i in genes_per_score.index]\n",
    "\n",
    "#show the first few lines\n",
    "genes_per_score.head()"
   ]
  },
  {
   "cell_type": "code",
   "execution_count": 26,
   "metadata": {},
   "outputs": [
    {
     "data": {
      "text/plain": [
       "<matplotlib.axes._subplots.AxesSubplot at 0x23d82f180b8>"
      ]
     },
     "execution_count": 26,
     "metadata": {},
     "output_type": "execute_result"
    },
    {
     "data": {
      "image/png": "[encoded data removed]",
      "text/plain": [
       "<Figure size 432x288 with 1 Axes>"
      ]
     },
     "metadata": {
      "needs_background": "light"
     },
     "output_type": "display_data"
    }
   ],
   "source": [
    "genes_per_score.plot.bar(ylabel='Gene count', xlabel='Gene Score', legend=False, rot=0, color='tab:cyan')"
   ]
  },
  {
   "cell_type": "markdown",
   "metadata": {},
   "source": [
    "**Task 2** - Rank the genes by ‘number-of-reports’ and find the top 5 SFARI genes that are in gene-score category 1 (2 marks)"
   ]
  },
  {
   "cell_type": "code",
   "execution_count": 6,
   "metadata": {},
   "outputs": [
    {
     "data": {
      "text/html": [
       "<div>\n",
       "<style scoped>\n",
       "    .dataframe tbody tr th:only-of-type {\n",
       "        vertical-align: middle;\n",
       "    }\n",
       "\n",
       "    .dataframe tbody tr th {\n",
       "        vertical-align: top;\n",
       "    }\n",
       "\n",
       "    .dataframe thead th {\n",
       "        text-align: right;\n",
       "    }\n",
       "</style>\n",
       "<table border=\"1\" class=\"dataframe\">\n",
       "  <thead>\n",
       "    <tr style=\"text-align: right;\">\n",
       "      <th></th>\n",
       "      <th>status</th>\n",
       "      <th>gene-symbol</th>\n",
       "      <th>gene-name</th>\n",
       "      <th>ensembl-id</th>\n",
       "      <th>chromosome</th>\n",
       "      <th>genetic-category</th>\n",
       "      <th>gene-score</th>\n",
       "      <th>syndromic</th>\n",
       "      <th>number-of-reports</th>\n",
       "    </tr>\n",
       "  </thead>\n",
       "  <tbody>\n",
       "    <tr>\n",
       "      <th>783</th>\n",
       "      <td>9</td>\n",
       "      <td>SHANK3</td>\n",
       "      <td>SH3 and multiple ankyrin repeat domains 3</td>\n",
       "      <td>ENSG00000251322</td>\n",
       "      <td>22</td>\n",
       "      <td>Rare Single Gene Mutation, Syndromic, Genetic ...</td>\n",
       "      <td>1.0</td>\n",
       "      <td>0</td>\n",
       "      <td>88</td>\n",
       "    </tr>\n",
       "    <tr>\n",
       "      <th>570</th>\n",
       "      <td>9</td>\n",
       "      <td>NRXN1</td>\n",
       "      <td>neurexin 1</td>\n",
       "      <td>ENSG00000179915</td>\n",
       "      <td>2</td>\n",
       "      <td>Rare Single Gene Mutation, Syndromic, Genetic ...</td>\n",
       "      <td>1.0</td>\n",
       "      <td>0</td>\n",
       "      <td>88</td>\n",
       "    </tr>\n",
       "    <tr>\n",
       "      <th>496</th>\n",
       "      <td>9</td>\n",
       "      <td>MECP2</td>\n",
       "      <td>Methyl CpG binding protein 2</td>\n",
       "      <td>ENSG00000169057</td>\n",
       "      <td>X</td>\n",
       "      <td>Rare Single Gene Mutation, Syndromic, Functional</td>\n",
       "      <td>1.0</td>\n",
       "      <td>0</td>\n",
       "      <td>87</td>\n",
       "    </tr>\n",
       "    <tr>\n",
       "      <th>757</th>\n",
       "      <td>9</td>\n",
       "      <td>SCN2A</td>\n",
       "      <td>sodium channel, voltage-gated, type II, alpha ...</td>\n",
       "      <td>ENSG00000136531</td>\n",
       "      <td>2</td>\n",
       "      <td>Rare Single Gene Mutation, Syndromic</td>\n",
       "      <td>1.0</td>\n",
       "      <td>0</td>\n",
       "      <td>71</td>\n",
       "    </tr>\n",
       "    <tr>\n",
       "      <th>756</th>\n",
       "      <td>9</td>\n",
       "      <td>SCN1A</td>\n",
       "      <td>sodium channel, voltage-gated, type I, alpha s...</td>\n",
       "      <td>ENSG00000144285</td>\n",
       "      <td>2</td>\n",
       "      <td>Rare Single Gene Mutation, Syndromic, Genetic ...</td>\n",
       "      <td>1.0</td>\n",
       "      <td>0</td>\n",
       "      <td>67</td>\n",
       "    </tr>\n",
       "  </tbody>\n",
       "</table>\n",
       "</div>"
      ],
      "text/plain": [
       "     status gene-symbol                                          gene-name  \\\n",
       "783       9      SHANK3          SH3 and multiple ankyrin repeat domains 3   \n",
       "570       9       NRXN1                                         neurexin 1   \n",
       "496       9       MECP2                       Methyl CpG binding protein 2   \n",
       "757       9       SCN2A  sodium channel, voltage-gated, type II, alpha ...   \n",
       "756       9       SCN1A  sodium channel, voltage-gated, type I, alpha s...   \n",
       "\n",
       "          ensembl-id chromosome  \\\n",
       "783  ENSG00000251322         22   \n",
       "570  ENSG00000179915          2   \n",
       "496  ENSG00000169057          X   \n",
       "757  ENSG00000136531          2   \n",
       "756  ENSG00000144285          2   \n",
       "\n",
       "                                      genetic-category  gene-score  syndromic  \\\n",
       "783  Rare Single Gene Mutation, Syndromic, Genetic ...         1.0          0   \n",
       "570  Rare Single Gene Mutation, Syndromic, Genetic ...         1.0          0   \n",
       "496   Rare Single Gene Mutation, Syndromic, Functional         1.0          0   \n",
       "757               Rare Single Gene Mutation, Syndromic         1.0          0   \n",
       "756  Rare Single Gene Mutation, Syndromic, Genetic ...         1.0          0   \n",
       "\n",
       "     number-of-reports  \n",
       "783                 88  \n",
       "570                 88  \n",
       "496                 87  \n",
       "757                 71  \n",
       "756                 67  "
      ]
     },
     "execution_count": 6,
     "metadata": {},
     "output_type": "execute_result"
    }
   ],
   "source": [
    "genes_sort_reports = genes_df.sort_values(by=['number-of-reports'], ascending=False)\n",
    "genes_sort_reports_score_1 = genes_sort_reports.loc[genes_sort_reports['gene-score'] == 1.0]\n",
    "genes_sort_reports_score_1.head()"
   ]
  },
  {
   "cell_type": "markdown",
   "metadata": {},
   "source": [
    "**Task 3** - For each of these genes find the number of papers in PubMed that include the gene AND are related to Autism (5 marks)."
   ]
  },
  {
   "cell_type": "markdown",
   "metadata": {},
   "source": [
    "Searching for \"_gene-symbol_ AND Autism\" for each of the five genes in PubMed gives the following results:\n",
    "1. SHANK3 - 355 results\n",
    "2. NRXN1 - 162 results\n",
    "3. MECP2 - 496 results\n",
    "4. SCN2A - 73 results\n",
    "5. SCN1A - 59 results"
   ]
  },
  {
   "cell_type": "markdown",
   "metadata": {},
   "source": [
    "**Task 4** - From these data fill a table with genes as rows and paper count by year as column (3 marks).\n",
    "\n",
    "_This can be done directly in Latex_"
   ]
  },
  {
   "cell_type": "markdown",
   "metadata": {},
   "source": [
    "**Task 5** - Plot a single stacked histogram displaying the data from the table (3 marks)"
   ]
  },
  {
   "cell_type": "code",
   "execution_count": 71,
   "metadata": {},
   "outputs": [
    {
     "data": {
      "image/png": "[encoded data removed]",
      "text/plain": [
       "<Figure size 432x288 with 1 Axes>"
      ]
     },
     "metadata": {
      "needs_background": "light"
     },
     "output_type": "display_data"
    }
   ],
   "source": [
    "genes_pub_MECP2 = pd.read_csv('PubMed_Timeline_Results_by_Year_MECP2.csv')\n",
    "genes_pub_SHANK3 = pd.read_csv('PubMed_Timeline_Results_by_Year_SHANK3.csv')\n",
    "genes_pub_NRXN1 = pd.read_csv('PubMed_Timeline_Results_by_Year_NRXN1.csv')\n",
    "genes_pub_SCN2A = pd.read_csv('PubMed_Timeline_Results_by_Year_SCN2A.csv')\n",
    "genes_pub_SCN1A = pd.read_csv('PubMed_Timeline_Results_by_Year_SCN1A.csv')\n",
    "\n",
    "years = np.arange(1993, 2021, 1)\n",
    "years = years.T\n",
    "num_MECP2 = np.flip(np.array((31, 39, 26, 42, 49, 51, 43, 38, 30, 38, 24, 28, 22, 21, 14, 19, 11, 8, 9, 5, 7, 1, 0, 0, 0, 0, 0, 3)))\n",
    "num_SHANK3 = np.flip(np.array((46, 56, 57, 44, 47, 32, 35, 32, 20, 21, 9, 9, 9, 4, 1, 2, 0, 0, 0, 0, 0, 0, 0, 0, 0, 0, 0, 1)))\n",
    "num_NRXN1 = np.flip(np.array((10, 21, 12, 15, 7, 17, 18, 20, 17, 21, 10, 14, 7, 4, 0, 0, 0, 0, 0, 0, 0, 0, 0, 0, 0, 0, 0, 0)))\n",
    "num_SCN2A = np.flip(np.array((11, 18, 11, 9, 8, 7, 6, 3, 1, 1, 1, 0, 2, 0, 0, 0, 2, 1, 0, 0, 0, 0, 0, 0, 0, 0, 0, 0)))\n",
    "num_SCN1A = np.flip(np.array((11, 9, 6, 6, 5, 5, 3, 4, 7, 3, 0, 1, 1, 0, 0, 1, 2, 1, 0, 0, 0, 0, 0, 0, 0, 0, 0, 1)))\n",
    "\n",
    "plt.figure(figsize=(6,4))\n",
    "colors = ['red', 'blue', 'green', 'orange', 'purple']\n",
    "for i, year in enumerate(years):\n",
    "#     plt.bar(year,np.flip(num_MECP2))\n",
    "#     plt.bar(year,np.flip(num_SHANK3))\n",
    "#     plt.bar(year,np.flip(num_NRXN1))\n",
    "#     plt.bar(year,np.flip(num_SCN2A))\n",
    "#     plt.bar(year,np.flip(num_SCN1A))\n",
    "    \n",
    "    counts = np.array((np.flip(num_MECP2[i]), np.flip(num_SHANK3[i]), np.flip(num_NRXN1[i]), np.flip(num_SCN2A[i]), np.flip(num_SCN1A[i])))\n",
    "    order_arg = np.argsort(counts)\n",
    "    \n",
    "    for arg in np.flip(order_arg):\n",
    "#         print(arg)\n",
    "        if i+1 == np.size(years):\n",
    "            if arg == 0:\n",
    "                plt.bar(year,num_MECP2[i],color='red', label='MECP2')\n",
    "            elif arg == 1:\n",
    "                plt.bar(year,num_SHANK3[i],color='blue', label='SHANK3')\n",
    "            elif arg == 2:\n",
    "                plt.bar(year,num_NRXN1[i],color='green', label='NRXN1')\n",
    "            elif arg == 3:\n",
    "                plt.bar(year,num_SCN2A[i],color='orange', label='SCN2A')\n",
    "            elif arg == 4:\n",
    "                plt.bar(year,num_SCN1A[i],color='purple', label='SCN1A')\n",
    "        else:\n",
    "            if arg == 0:\n",
    "                plt.bar(year,num_MECP2[i],color='red')\n",
    "            elif arg == 1:\n",
    "                plt.bar(year,num_SHANK3[i],color='blue')\n",
    "            elif arg == 2:\n",
    "                plt.bar(year,num_NRXN1[i],color='green')\n",
    "            elif arg == 3:\n",
    "                plt.bar(year,num_SCN2A[i],color='orange')\n",
    "            elif arg == 4:\n",
    "                plt.bar(year,num_SCN1A[i],color='purple')\n",
    "                \n",
    "plt.legend()\n",
    "plt.ylabel('# PubMed Results')\n",
    "plt.xlabel('Year')\n",
    "plt.savefig('stacked_bar_chart_pubmed_results.png')"
   ]
  },
  {
   "cell_type": "markdown",
   "metadata": {},
   "source": [
    "Comment on your results. You might want to think about the timescale over which papers have appeared, how different genes have fared over the years, how representative these 5 genes might be. Other factors to consider might be; how confident are you that the papers you have identified are related to Autism and why?\n",
    "\n",
    "_At first glance from the bar chart above, it seems that the gene MECP2 has either been most studied of these genes with respect to Autism, or it is a gene most commonly associated with Autism in some way, or both. If we search in PubMed for these genes without the Autism tag, we get the following results:\n",
    "1. SHANK3 - 537 results\n",
    "2. NRXN1 - 358 results\n",
    "3. MECP2 - 3,244 results\n",
    "4. SCN2A - 622 results\n",
    "5. SCN1A - 1,259 results\n",
    "_These results seem to indicate that despite MECP2 having many results with respect to Autism, there are generally many more results for this gene than the others anyway. As a proportion of the number of papers with MECP2 and Autism to the total number of papers for this gene, that proportion is 496/3,244 = 0.153, whereas for SHANK3 the proportion is 355/537 = 0.661. This indicates that SHANK3 may be more relevent to Autism than MECP2, since most of the papers on the SHANK3 gene are related to Autism. However, what is clearer is that the gene SCN1A, despite it having the second highest number of papers on its own, only has as a proportion 59/1,259 = 0.047 papers associate with Autism. So despite it being a well studied gene, this would indicate it is less related with Autism than the other genes."
   ]
  },
  {
   "cell_type": "code",
   "execution_count": null,
   "metadata": {},
   "outputs": [],
   "source": []
  }
 ],
 "metadata": {
  "kernelspec": {
   "display_name": "Python 3",
   "language": "python",
   "name": "python3"
  },
  "language_info": {
   "codemirror_mode": {
    "name": "ipython",
    "version": 3
   },
   "file_extension": ".py",
   "mimetype": "text/x-python",
   "name": "python",
   "nbconvert_exporter": "python",
   "pygments_lexer": "ipython3",
   "version": "3.7.3"
  }
 },
 "nbformat": 4,
 "nbformat_minor": 2
}
